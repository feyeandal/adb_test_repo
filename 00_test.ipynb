{
 "cells": [
  {
   "cell_type": "code",
   "execution_count": 1,
   "id": "closed-entrepreneur",
   "metadata": {},
   "outputs": [
    {
     "output_type": "stream",
     "name": "stdout",
     "text": [
      "test only\n"
     ]
    }
   ],
   "source": [
    "print('test only')"
   ]
  },
  {
   "cell_type": "code",
   "execution_count": null,
   "id": "historical-miracle",
   "metadata": {},
   "outputs": [],
   "source": [
    "# import requests\n",
    "# import re\n",
    "\n",
    "# # Set URLs from the data source (VIIRS)\n",
    "# data_url = 'https://eogdata.mines.edu/wwwdata/viirs_products/vbd/v23/phl/final/daily/'\n",
    "# response = requests.get(data_url, verify=False)\n",
    "# html = response.text\n",
    "\n",
    "# csv_files = re.findall('href=\"(VBD_npp_d20(12)(0[6-9]|1[0-2])(0[1-9]|[12][0-9]|3[01])_phl_noaa_ops_v23\\.csv\\.gz)\"', html)\n",
    "\n",
    "# for csv_file in csv_files:\n",
    "#     print(csv_file)\n",
    "#     csv_url = data_url + csv_file[0]\n",
    "#     response = requests.get(csv_url, verify=False)\n",
    "\n",
    "#     # Save the CSV file in the viirs_path folder\n",
    "#     # csv_file_path = os.path.join(viirs_path, csv_file[0])\n",
    "#     with open(csv_file[0], 'wb') as f:\n",
    "#         f.write(response.content)"
   ]
  },
  {
   "cell_type": "code",
   "execution_count": null,
   "metadata": {},
   "outputs": [],
   "source": []
  }
 ],
 "metadata": {
  "kernelspec": {
   "display_name": "Python 3",
   "language": "python",
   "name": "python3"
  },
  "language_info": {
   "codemirror_mode": {
    "name": "ipython",
    "version": 3
   },
   "file_extension": ".py",
   "mimetype": "text/x-python",
   "name": "python",
   "nbconvert_exporter": "python",
   "pygments_lexer": "ipython3",
   "version": "3.9.1-final"
  }
 },
 "nbformat": 4,
 "nbformat_minor": 5
}