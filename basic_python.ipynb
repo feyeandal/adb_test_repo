{
 "cells": [
  {
   "cell_type": "markdown",
   "id": "4381f18a",
   "metadata": {},
   "source": [
    "\n",
    "# What is Python?\n",
    "It was created by Guido van Rossum in 1991 and further developed by the Python Software Foundation\n",
    "\n",
    "It is also called general-purpose programming language as it is used in almost every domain we can think of such as \n",
    "web development, software development, data analytics, etc.\n",
    "\n",
    "# Why Python?\n",
    "Open source and large active community base \n",
    "\n",
    "Easy to read, learn and write\n",
    "\n",
    "Extensive support libraries (NumPy for numerical calculations, Pandas for data analytics, etc.)\n",
    "## Print Function"
   ]
  },
  {
   "cell_type": "code",
   "execution_count": 1,
   "id": "38479a3a",
   "metadata": {},
   "outputs": [
    {
     "name": "stdout",
     "output_type": "stream",
     "text": [
      "Hello world!\n"
     ]
    }
   ],
   "source": [
    "print(\"Hello world!\")"
   ]
  },
  {
   "cell_type": "markdown",
   "id": "4c3cf762",
   "metadata": {},
   "source": [
    "## Variables\n",
    "Containers used for storing values."
   ]
  },
  {
   "cell_type": "code",
   "execution_count": 2,
   "id": "33448f18",
   "metadata": {},
   "outputs": [
    {
     "name": "stdout",
     "output_type": "stream",
     "text": [
      "2\n",
      "Hello world!\n"
     ]
    }
   ],
   "source": [
    "x = 2\n",
    "y = \"Hello world!\"\n",
    "print(x)\n",
    "print(y)"
   ]
  },
  {
   "cell_type": "markdown",
   "id": "b86eb857",
   "metadata": {},
   "source": [
    "## Operations\n",
    "Used for performing operations on values and variables.\n",
    "In this example, we will use + operator:"
   ]
  },
  {
   "cell_type": "code",
   "execution_count": 3,
   "id": "f21285d6",
   "metadata": {},
   "outputs": [
    {
     "name": "stdout",
     "output_type": "stream",
     "text": [
      "28\n",
      "21\n"
     ]
    }
   ],
   "source": [
    "x = 20\n",
    "y = 8\n",
    "print(x+y)\n",
    "print(10+11)"
   ]
  },
  {
   "cell_type": "markdown",
   "id": "ea6ecd18",
   "metadata": {},
   "source": [
    "## Lists\n",
    "Used for storing multiple values in one variable. We use square brackets to create a list."
   ]
  },
  {
   "cell_type": "code",
   "execution_count": 4,
   "id": "2712acf8",
   "metadata": {},
   "outputs": [
    {
     "name": "stdout",
     "output_type": "stream",
     "text": [
      "['a', 'b', 'c', 'd', 'e']\n"
     ]
    }
   ],
   "source": [
    "alphabet = [\"a\", \"b\", \"c\", \"d\", \"e\"]\n",
    "print(alphabet)"
   ]
  },
  {
   "cell_type": "markdown",
   "id": "470a7cde",
   "metadata": {},
   "source": [
    "### Access specific element in list\n",
    "List values are indexed, the first index is 0 and the second item is 1 and so on."
   ]
  },
  {
   "cell_type": "code",
   "execution_count": 5,
   "id": "54bcfc73",
   "metadata": {},
   "outputs": [
    {
     "name": "stdout",
     "output_type": "stream",
     "text": [
      "a\n"
     ]
    }
   ],
   "source": [
    "alphabet = [\"a\", \"b\", \"c\", \"d\", \"e\"]\n",
    "print(alphabet[0])"
   ]
  },
  {
   "cell_type": "markdown",
   "id": "5a3a8036",
   "metadata": {},
   "source": [
    "## Dictionaries\n",
    "Used for storing value by pairs. key:value. It is written using curly brackets."
   ]
  },
  {
   "cell_type": "code",
   "execution_count": 6,
   "id": "18b3153f",
   "metadata": {},
   "outputs": [
    {
     "name": "stdout",
     "output_type": "stream",
     "text": [
      "{'city': 'Seoul', 'population': 9988000, 'coordinates': (37.5519, 126.9918)}\n"
     ]
    }
   ],
   "source": [
    "sk_data = {'city': 'Seoul', 'population': \t9988000, 'coordinates': (37.5519, 126.9918)}\n",
    "print(sk_data)"
   ]
  },
  {
   "cell_type": "markdown",
   "id": "58f71baf",
   "metadata": {},
   "source": [
    "### Access dictionary value\n",
    "Dictionaries are written using curly brackets and in key:value pair. You can access the value by using the key name."
   ]
  },
  {
   "cell_type": "code",
   "execution_count": 7,
   "id": "450aadfd",
   "metadata": {},
   "outputs": [
    {
     "name": "stdout",
     "output_type": "stream",
     "text": [
      "Seoul\n"
     ]
    }
   ],
   "source": [
    "sk_data = {'city': 'Seoul', 'population': \t9988000, 'coordinates': (37.5519, 126.9918)}\n",
    "print(sk_data[\"city\"])"
   ]
  },
  {
   "cell_type": "markdown",
   "id": "3770e2b3",
   "metadata": {},
   "source": [
    "## Conditions and If statements\n",
    "Python uses mathematics logical operations:\n",
    "* equals: ==\n",
    "* not equals: !=\n",
    "* less than: <\n",
    "* greater than: >\n",
    "* less than or equal to: <=\n",
    "* greater than or equal to: >="
   ]
  },
  {
   "cell_type": "code",
   "execution_count": 8,
   "id": "9901b31d",
   "metadata": {},
   "outputs": [
    {
     "name": "stdout",
     "output_type": "stream",
     "text": [
      "x is greater than y\n"
     ]
    }
   ],
   "source": [
    "x = 300\n",
    "y = 100\n",
    "if x > y:\n",
    "  print(\"x is greater than y\")\n",
    "elif x == y:\n",
    " print(\"x and y are equal\")\n",
    "else:\n",
    "  print(\"y is greater than x\")"
   ]
  },
  {
   "cell_type": "markdown",
   "id": "b99c51ae",
   "metadata": {},
   "source": [
    "## Loops\n",
    "* While loops\n",
    "* For loops\n",
    "\n",
    "### While loop\n",
    "While loop repeats a set of statements until a condition is met or not.\n"
   ]
  },
  {
   "cell_type": "code",
   "execution_count": 9,
   "id": "8a44fddf",
   "metadata": {},
   "outputs": [
    {
     "name": "stdout",
     "output_type": "stream",
     "text": [
      "1\n",
      "2\n",
      "3\n",
      "4\n",
      "5\n",
      "6\n",
      "7\n",
      "8\n",
      "9\n"
     ]
    }
   ],
   "source": [
    "x = 1\n",
    "while x < 10:\n",
    "  print(x)\n",
    "  x += 1"
   ]
  },
  {
   "cell_type": "markdown",
   "id": "9432ba81",
   "metadata": {},
   "source": [
    "### For loop\n",
    "For loop is used to iterate a list, array or a string."
   ]
  },
  {
   "cell_type": "code",
   "execution_count": 10,
   "id": "d6fc48c4",
   "metadata": {},
   "outputs": [
    {
     "name": "stdout",
     "output_type": "stream",
     "text": [
      "a\n",
      "b\n",
      "c\n",
      "d\n",
      "e\n"
     ]
    }
   ],
   "source": [
    "alphabet = [\"a\", \"b\", \"c\", \"d\", \"e\"]\n",
    "for x in alphabet:\n",
    "  print(x)"
   ]
  },
  {
   "cell_type": "markdown",
   "id": "4e2b4c67",
   "metadata": {},
   "source": [
    "### Break Statement\n",
    "Break statement terminates the loop execution."
   ]
  },
  {
   "cell_type": "code",
   "execution_count": 11,
   "id": "305e59bd",
   "metadata": {},
   "outputs": [
    {
     "name": "stdout",
     "output_type": "stream",
     "text": [
      "While Loop:\n",
      "1\n",
      "2\n",
      "3\n",
      "4\n",
      "5\n",
      "For Loop:\n",
      "a\n",
      "b\n"
     ]
    }
   ],
   "source": [
    "print(\"While Loop:\")\n",
    "x = 1\n",
    "while x < 10:\n",
    "  print(x)\n",
    "  if x == 5:\n",
    "    break\n",
    "  x += 1\n",
    "\n",
    "print(\"For Loop:\")\n",
    "alphabet = [\"a\", \"b\", \"c\", \"d\", \"e\"]  \n",
    "for y in alphabet:\n",
    "  if y == \"c\":\n",
    "    break\n",
    "  print(y)"
   ]
  },
  {
   "cell_type": "markdown",
   "id": "aa5f3880",
   "metadata": {},
   "source": [
    "### Continue Statement\n",
    "Continue statement skips or stops the current iteration then will continue to the next."
   ]
  },
  {
   "cell_type": "code",
   "execution_count": 12,
   "id": "b399bb1e",
   "metadata": {},
   "outputs": [
    {
     "name": "stdout",
     "output_type": "stream",
     "text": [
      "While Loop:\n",
      "1\n",
      "2\n",
      "3\n",
      "4\n",
      "6\n",
      "7\n",
      "8\n",
      "9\n",
      "10\n",
      "For Loop:\n",
      "a\n",
      "b\n",
      "d\n",
      "e\n"
     ]
    }
   ],
   "source": [
    "print(\"While Loop:\")\n",
    "x = 0\n",
    "while x < 10:\n",
    "  x += 1\n",
    "  if x == 5:\n",
    "    continue\n",
    "  print(x)\n",
    "  \n",
    "print(\"For Loop:\")\n",
    "alphabet = [\"a\", \"b\", \"c\", \"d\", \"e\"]  \n",
    "for y in alphabet:\n",
    "  if y == \"c\":\n",
    "    continue\n",
    "  print(y)"
   ]
  },
  {
   "cell_type": "markdown",
   "id": "847d3ba4",
   "metadata": {},
   "source": [
    "### For loop: Range\n",
    "Range will loop through a statement based on an integer. It will return a sequence of number that will start from 0. \n",
    "You can also add range between to numbers by adding a start and an end number"
   ]
  },
  {
   "cell_type": "code",
   "execution_count": 13,
   "id": "75772f2b",
   "metadata": {},
   "outputs": [
    {
     "name": "stdout",
     "output_type": "stream",
     "text": [
      "Range:\n",
      "0\n",
      "1\n",
      "2\n",
      "3\n",
      "4\n",
      "Range between two numbers:\n",
      "3\n",
      "4\n",
      "5\n",
      "6\n",
      "7\n",
      "8\n",
      "9\n"
     ]
    }
   ],
   "source": [
    "print(\"Range:\")\n",
    "for x in range(5):\n",
    "  print(x)\n",
    "\n",
    "print(\"Range between two numbers:\")\n",
    "for y in range(3, 10):\n",
    "  print(y)"
   ]
  },
  {
   "cell_type": "markdown",
   "id": "85be3038",
   "metadata": {},
   "source": [
    "## Function\n",
    "Function is a block of code which is only executed when it is called."
   ]
  },
  {
   "cell_type": "code",
   "execution_count": 14,
   "id": "4b36b597",
   "metadata": {},
   "outputs": [
    {
     "name": "stdout",
     "output_type": "stream",
     "text": [
      "Hello World!\n"
     ]
    }
   ],
   "source": [
    "def func():\n",
    "  print(\"Hello World!\")\n",
    "func()"
   ]
  },
  {
   "cell_type": "markdown",
   "id": "21ac8cb8",
   "metadata": {},
   "source": [
    "### Arguments/Parameters\n",
    "Arguments/Parameters are data that are passed in the function. It can be as many as you want, just add a comma to seperate each."
   ]
  },
  {
   "cell_type": "code",
   "execution_count": 15,
   "id": "a797078a",
   "metadata": {},
   "outputs": [
    {
     "name": "stdout",
     "output_type": "stream",
     "text": [
      "1 Argument/Parameter\n",
      "What country? Korea\n",
      "What country? USA\n",
      "2 Arguments/Parameters\n",
      "Full Name: John Doe\n",
      "Full Name: Mary Anna\n"
     ]
    }
   ],
   "source": [
    "print(\"1 Argument/Parameter\")\n",
    "def func(country):\n",
    "  print(\"What country? \" + country)\n",
    "func(\"Korea\")\n",
    "func(\"USA\")\n",
    "print(\"2 Arguments/Parameters\")\n",
    "def func(first_name, last_name):\n",
    "  print(\"Full Name: \" + first_name + \" \" + last_name)\n",
    "func(\"John\", \"Doe\")\n",
    "func(\"Mary\", \"Anna\")"
   ]
  }
 ],
 "metadata": {
  "language_info": {
   "codemirror_mode": {
    "name": "ipython",
    "version": 3
   },
   "file_extension": ".py",
   "mimetype": "text/x-python",
   "name": "python",
   "nbconvert_exporter": "python",
   "pygments_lexer": "ipython3",
   "version": "3.7.3"
  }
 },
 "nbformat": 4,
 "nbformat_minor": 5
}
